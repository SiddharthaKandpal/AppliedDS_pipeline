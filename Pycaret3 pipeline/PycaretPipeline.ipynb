{
 "cells": [
  {
   "cell_type": "code",
   "execution_count": null,
   "id": "d5fb43e7",
   "metadata": {},
   "outputs": [],
   "source": []
  },
  {
   "cell_type": "code",
   "execution_count": null,
   "id": "1a13a1c3",
   "metadata": {},
   "outputs": [],
   "source": [
    "import seaborn as sns\n",
    "from pycaret.classification import *\n",
    "\n",
    "penguins = sns.load_dataset('penguins')"
   ]
  },
  {
   "cell_type": "code",
   "execution_count": null,
   "id": "efb68936",
   "metadata": {},
   "outputs": [],
   "source": [
    "# Initialize PyCaret\n",
    "clf = setup(data=penguins, target='species', normalize=True)\n"
   ]
  },
  {
   "cell_type": "code",
   "execution_count": null,
   "id": "2b8adfa7",
   "metadata": {},
   "outputs": [],
   "source": [
    "# Train a logistic regression classifier\n",
    "lr = create_model('lr')"
   ]
  },
  {
   "cell_type": "code",
   "execution_count": null,
   "id": "4f6e4d3a",
   "metadata": {},
   "outputs": [],
   "source": [
    "# Tune the hyperparameters of the logistic regression classifier\n",
    "tuned_lr = tune_model(lr, n_iter=50)"
   ]
  },
  {
   "cell_type": "code",
   "execution_count": null,
   "id": "c20f28bf",
   "metadata": {},
   "outputs": [],
   "source": [
    "# Train a random forest classifier\n",
    "rf = create_model('rf')\n",
    "\n",
    "# Ensemble the logistic regression and random forest models\n",
    "lr_rf = blend_models(estimator_list=[tuned_lr, rf])"
   ]
  },
  {
   "cell_type": "code",
   "execution_count": null,
   "id": "9ddb5597",
   "metadata": {},
   "outputs": [],
   "source": [
    "# Visualize the trained model\n",
    "plot_model(lr_rf, plot='class_report')\n"
   ]
  },
  {
   "cell_type": "code",
   "execution_count": null,
   "id": "b242c029",
   "metadata": {},
   "outputs": [],
   "source": [
    "# Make predictions on new data\n",
    "new_data = penguins.drop(columns=['species']).iloc[0:10]\n",
    "predictions = predict_model(lr_rf, data=new_data)\n",
    "print(predictions)\n"
   ]
  },
  {
   "cell_type": "code",
   "execution_count": null,
   "id": "419f738f",
   "metadata": {},
   "outputs": [],
   "source": [
    "\n"
   ]
  },
  {
   "cell_type": "code",
   "execution_count": null,
   "id": "0d6eac83",
   "metadata": {},
   "outputs": [],
   "source": []
  }
 ],
 "metadata": {
  "kernelspec": {
   "display_name": "Python 3 (ipykernel)",
   "language": "python",
   "name": "python3"
  },
  "language_info": {
   "codemirror_mode": {
    "name": "ipython",
    "version": 3
   },
   "file_extension": ".py",
   "mimetype": "text/x-python",
   "name": "python",
   "nbconvert_exporter": "python",
   "pygments_lexer": "ipython3",
   "version": "3.10.8"
  }
 },
 "nbformat": 4,
 "nbformat_minor": 5
}
