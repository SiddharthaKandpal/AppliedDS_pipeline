{
 "cells": [
  {
   "cell_type": "markdown",
   "id": "61de3faa",
   "metadata": {},
   "source": [
    "Importing the necessary libraries and loading the dataset:"
   ]
  },
  {
   "cell_type": "code",
   "execution_count": null,
   "id": "e3e7a655",
   "metadata": {},
   "outputs": [],
   "source": [
    "import pandas as pd\n",
    "import seaborn as sns\n",
    "from sklearn.pipeline import Pipeline\n",
    "from sklearn.preprocessing import StandardScaler, OneHotEncoder\n",
    "from sklearn.impute import SimpleImputer\n",
    "from sklearn.compose import ColumnTransformer\n",
    "from sklearn.model_selection import train_test_split\n",
    "from sklearn.linear_model import LogisticRegression\n",
    "from yellowbrick.classifier import ConfusionMatrix\n",
    "\n",
    "penguins = sns.load_dataset('penguins')\n"
   ]
  },
  {
   "cell_type": "markdown",
   "id": "74de5b00",
   "metadata": {},
   "source": [
    "Here , we'll split the dataset into training and testing sets:"
   ]
  },
  {
   "cell_type": "code",
   "execution_count": null,
   "id": "1a31d89c",
   "metadata": {},
   "outputs": [],
   "source": [
    "X_train, X_test, y_train, y_test = train_test_split(penguins.drop('species', axis=1), penguins['species'], test_size=0.2, random_state=42)"
   ]
  },
  {
   "cell_type": "markdown",
   "id": "004b13b1",
   "metadata": {},
   "source": [
    "Now let's define the preprocessing steps for our pipeline. We'll use a ColumnTransformer to apply different transformations to different columns of the dataset:\n",
    "The numeric_transformer applies a median imputation to missing values, followed by standard scaling of the numeric features. The preprocessor applies this transformation to the numeric columns and leaves the categorical columns unchanged.\n",
    "The categorical_transformer first imputes the missing values with the most frequent value and then applies one-hot encoding to encode categorical variables. Meanwhile also added the ColumnTransformer to apply categorical_transformer to the 'sex' and 'island' columns."
   ]
  },
  {
   "cell_type": "code",
   "execution_count": null,
   "id": "9314210a",
   "metadata": {},
   "outputs": [],
   "source": [
    "numeric_transformer = Pipeline(steps=[\n",
    "    ('imputer', SimpleImputer(strategy='median')),\n",
    "    ('scaler', StandardScaler())])\n",
    "\n",
    "categorical_transformer = Pipeline(steps=[\n",
    "    ('imputer', SimpleImputer(strategy='most_frequent')),\n",
    "    ('onehot', OneHotEncoder(handle_unknown='ignore'))])\n",
    "\n",
    "preprocessor = ColumnTransformer(\n",
    "    transformers=[\n",
    "        ('num', numeric_transformer, ['bill_length_mm', 'bill_depth_mm', 'flipper_length_mm', 'body_mass_g']),\n",
    "        ('cat', categorical_transformer, ['sex', 'island'])\n",
    "    ])\n"
   ]
  },
  {
   "cell_type": "markdown",
   "id": "665b3ad5",
   "metadata": {},
   "source": [
    "Let's define the logistic regression model that we want to fit to the data:"
   ]
  },
  {
   "cell_type": "code",
   "execution_count": null,
   "id": "da82151f",
   "metadata": {},
   "outputs": [],
   "source": [
    "clf = Pipeline(steps=[\n",
    "    ('preprocessor', preprocessor),\n",
    "    ('classifier', LogisticRegression(max_iter=1000))])\n"
   ]
  },
  {
   "cell_type": "markdown",
   "id": "c3b4fc36",
   "metadata": {},
   "source": [
    "Now let's fit the model and visualize the results using the ConfusionMatrix from Yellowbrick:"
   ]
  },
  {
   "cell_type": "code",
   "execution_count": null,
   "id": "a27e4b75",
   "metadata": {},
   "outputs": [],
   "source": [
    "clf.fit(X_train, y_train)\n",
    "y_pred = clf.predict(X_test)\n",
    "\n",
    "cm = ConfusionMatrix(clf, classes=['Adelie', 'Chinstrap', 'Gentoo'])\n",
    "cm.score(X_test, y_test)\n",
    "\n",
    "cm.show()\n"
   ]
  },
  {
   "cell_type": "code",
   "execution_count": null,
   "id": "f841aafb",
   "metadata": {},
   "outputs": [],
   "source": [
    "\n"
   ]
  },
  {
   "cell_type": "code",
   "execution_count": null,
   "id": "79fe4a2d",
   "metadata": {},
   "outputs": [],
   "source": []
  }
 ],
 "metadata": {
  "kernelspec": {
   "display_name": "Python 3 (ipykernel)",
   "language": "python",
   "name": "python3"
  },
  "language_info": {
   "codemirror_mode": {
    "name": "ipython",
    "version": 3
   },
   "file_extension": ".py",
   "mimetype": "text/x-python",
   "name": "python",
   "nbconvert_exporter": "python",
   "pygments_lexer": "ipython3",
   "version": "3.10.8"
  }
 },
 "nbformat": 4,
 "nbformat_minor": 5
}
